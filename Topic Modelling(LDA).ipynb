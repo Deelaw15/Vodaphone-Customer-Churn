{
 "cells": [
  {
   "cell_type": "code",
   "execution_count": null,
   "id": "22cfaa22",
   "metadata": {},
   "outputs": [],
   "source": [
    "import nltk\n",
    "\n",
    "from nltk.corpus import stopwords\n",
    "from nltk.tokenize import word_tokenize\n",
    "from gensim import corpora, models\n",
    "import gensim\n",
    "import pandas as pd"
   ]
  },
  {
   "cell_type": "code",
   "execution_count": null,
   "id": "01e9e478",
   "metadata": {},
   "outputs": [],
   "source": [
    "df_new = pd.read_csv('Vodaphone_review_dataset.csv')\n",
    "\n",
    "df_new.head()"
   ]
  },
  {
   "cell_type": "code",
   "execution_count": null,
   "id": "27bce308",
   "metadata": {},
   "outputs": [],
   "source": [
    "complaints_df = df_new[df_new['Sentiment Label'].str.lower() != 'positive'].copy()\n",
    "\n",
    "praise_df = df_new[df_new['Sentiment Label'].str.lower() == 'positive'].copy()\n"
   ]
  },
  {
   "cell_type": "code",
   "execution_count": null,
   "id": "3e5c9f36",
   "metadata": {},
   "outputs": [],
   "source": [
    "nltk.download('punkt_tab')\n",
    "nltk.download('stopwords')"
   ]
  },
  {
   "cell_type": "code",
   "execution_count": null,
   "id": "d2f1bf84",
   "metadata": {},
   "outputs": [],
   "source": [
    "# Preprocessing text\n",
    "\n",
    "stop_words = set(stopwords.words('english'))\n",
    "def preprocess(text):\n",
    "    tokens = word_tokenize(text.lower())\n",
    "    return [word for word in tokens if word.isalpha() and word not in stop_words]\n",
    "\n",
    "complaints_df['tokens'] = complaints_df['Clean_Review'].apply(\n",
    "    lambda x: preprocess(x) if pd.notnull(x) else []\n",
    ")\n"
   ]
  },
  {
   "cell_type": "code",
   "execution_count": null,
   "id": "55c9ea5c",
   "metadata": {},
   "outputs": [],
   "source": [
    "# Creating dictionary and corpus\n",
    "dictionary = corpora.Dictionary(complaints_df['tokens'])\n",
    "corpus = [dictionary.doc2bow(text) for text in complaints_df['tokens']]\n"
   ]
  },
  {
   "cell_type": "code",
   "execution_count": null,
   "id": "33577a43",
   "metadata": {},
   "outputs": [],
   "source": [
    "# Train LDA model (start with 5 topics)\n",
    "\n",
    "lda_model = gensim.models.LdaModel(\n",
    "    corpus=corpus,\n",
    "    id2word=dictionary,\n",
    "    num_topics=5,\n",
    "    passes=10,\n",
    "    random_state=42\n",
    ")\n"
   ]
  },
  {
   "cell_type": "code",
   "execution_count": null,
   "id": "587427e7",
   "metadata": {},
   "outputs": [],
   "source": [
    "# Displaying the topics found by the LDA model\n",
    "\n",
    "topics = lda_model.print_topics(num_words=10)\n",
    "for idx, topic in topics:\n",
    "    print(f\"Topic {idx+1}: {topic}\")"
   ]
  },
  {
   "cell_type": "code",
   "execution_count": null,
   "id": "181a7a8b",
   "metadata": {},
   "outputs": [],
   "source": [
    "# getting the dominant topic for each document\n",
    "\n",
    "def get_topic(doc):\n",
    "    bow = dictionary.doc2bow(doc)\n",
    "    topic_probs = lda_model.get_document_topics(bow)\n",
    "    dominant_topic = max(topic_probs, key=lambda x: x[1])[0]\n",
    "    return dominant_topic"
   ]
  },
  {
   "cell_type": "code",
   "execution_count": null,
   "id": "1fe70d18",
   "metadata": {},
   "outputs": [],
   "source": [
    "complaints_df['Topic'] = complaints_df['tokens'].apply(get_topic)"
   ]
  },
  {
   "cell_type": "code",
   "execution_count": null,
   "id": "ad6529ca",
   "metadata": {},
   "outputs": [],
   "source": [
    "complaints_df.head()"
   ]
  },
  {
   "cell_type": "code",
   "execution_count": null,
   "id": "4d355fbd",
   "metadata": {},
   "outputs": [],
   "source": [
    "praise_df.head()"
   ]
  },
  {
   "cell_type": "code",
   "execution_count": null,
   "id": "ca9c5f70",
   "metadata": {},
   "outputs": [],
   "source": [
    "df_new.Review"
   ]
  },
  {
   "cell_type": "code",
   "execution_count": null,
   "id": "2b52df9c",
   "metadata": {},
   "outputs": [],
   "source": [
    "# Defining responses for each topic\n",
    "\n",
    "topic_intents = {\n",
    "    0: \"Router or WiFi Issue\",\n",
    "    1: \"Staff and Service Feedback\",\n",
    "    2: \"Phone or SIM Setup\",\n",
    "    3: \"Broadband or Internet Problem\",\n",
    "    4: \"Contract or Plan Concern\"\n",
    "}\n",
    "\n",
    "topic_responses = {\n",
    "    0: \"It seems you're having trouble with your router or WiFi. Let's work together to get that sorted quickly.\",\n",
    "    1: \"Thanks for your feedback on our staff and service. We’ll review your concerns with the relevant team.\",\n",
    "    2: \"Appreciate you sharing your experience—let’s make sure your new phone or SIM setup is working as expected.\",\n",
    "    3: \"We're sorry about the broadband or internet issues you've faced. We’re investigating and working to improve reliability.\",\n",
    "    4: \"It looks like there’s frustration with your contract or service plan. We’ll help clarify and resolve that for you.\"\n",
    "}\n",
    "\n"
   ]
  },
  {
   "cell_type": "code",
   "execution_count": null,
   "id": "87214eca",
   "metadata": {},
   "outputs": [],
   "source": [
    "# Mapping topics to responses\n",
    "\n",
    "complaints_df['Response'] = complaints_df['Topic'].map(topic_responses)\n"
   ]
  },
  {
   "cell_type": "code",
   "execution_count": null,
   "id": "9a244abb",
   "metadata": {},
   "outputs": [],
   "source": [
    "complaints_df.Response"
   ]
  },
  {
   "cell_type": "code",
   "execution_count": null,
   "id": "1b825bed",
   "metadata": {},
   "outputs": [],
   "source": [
    "def generate_response(text, complaints_df):\n",
    "    # Look up sentiment from the dataset\n",
    "    sentiment_row = complaints_df[complaints_df['Clean_Review'] == text]\n",
    "    \n",
    "    if not sentiment_row.empty:\n",
    "        sentiment = sentiment_row['Sentiment Label'].values[0].lower()\n",
    "    else:\n",
    "        sentiment = \"neutral\"  # fallback if not found\n",
    "\n",
    "    if sentiment == \"positive\":\n",
    "        return \"Thanks for your feedback! We're glad you're happy with our service 😊\"\n",
    "    else:\n",
    "        tokens = preprocess(text)\n",
    "        bow = dictionary.doc2bow(tokens)\n",
    "        topic_probs = lda_model.get_document_topics(bow)\n",
    "        dominant_topic = max(topic_probs, key=lambda x: x[1])[0]\n",
    "        return topic_responses.get(dominant_topic, \"Thank you for reaching out.\")\n"
   ]
  },
  {
   "cell_type": "code",
   "execution_count": null,
   "id": "99aeb523",
   "metadata": {},
   "outputs": [],
   "source": [
    "sample_review = complaints_df['Clean_Review'].sample(1).to_list()"
   ]
  },
  {
   "cell_type": "code",
   "execution_count": null,
   "id": "94eab8d9",
   "metadata": {},
   "outputs": [],
   "source": [
    "sample_review\n"
   ]
  },
  {
   "cell_type": "code",
   "execution_count": null,
   "id": "b07afef5",
   "metadata": {},
   "outputs": [],
   "source": [
    "response = generate_response(sample_review[0], complaints_df)\n",
    "print(\"Generated Response:\", response)"
   ]
  },
  {
   "cell_type": "code",
   "execution_count": null,
   "id": "ffa30b3a",
   "metadata": {},
   "outputs": [],
   "source": [
    "dictionary.save(\"lda_dictionary.dict\")\n"
   ]
  },
  {
   "cell_type": "code",
   "execution_count": null,
   "id": "fbf8ca7d",
   "metadata": {},
   "outputs": [],
   "source": [
    "import pickle\n",
    "lda_model.save(\"lda_model.gensim\")\n"
   ]
  },
  {
   "cell_type": "code",
   "execution_count": null,
   "id": "87054507",
   "metadata": {},
   "outputs": [],
   "source": []
  }
 ],
 "metadata": {
  "kernelspec": {
   "display_name": "Python 3",
   "language": "python",
   "name": "python3"
  },
  "language_info": {
   "codemirror_mode": {
    "name": "ipython",
    "version": 3
   },
   "file_extension": ".py",
   "mimetype": "text/x-python",
   "name": "python",
   "nbconvert_exporter": "python",
   "pygments_lexer": "ipython3",
   "version": "3.11.9"
  }
 },
 "nbformat": 4,
 "nbformat_minor": 5
}
